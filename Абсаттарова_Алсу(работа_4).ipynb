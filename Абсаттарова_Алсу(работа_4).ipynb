{
  "nbformat": 4,
  "nbformat_minor": 0,
  "metadata": {
    "colab": {
      "provenance": [],
      "authorship_tag": "ABX9TyMmLYjUuVxwT0tKKhCObSEx",
      "include_colab_link": true
    },
    "kernelspec": {
      "name": "python3",
      "display_name": "Python 3"
    },
    "language_info": {
      "name": "python"
    }
  },
  "cells": [
    {
      "cell_type": "markdown",
      "metadata": {
        "id": "view-in-github",
        "colab_type": "text"
      },
      "source": [
        "<a href=\"https://colab.research.google.com/github/AlsouAR/HW_p_1/blob/main/%D0%90%D0%B1%D1%81%D0%B0%D1%82%D1%82%D0%B0%D1%80%D0%BE%D0%B2%D0%B0_%D0%90%D0%BB%D1%81%D1%83(%D1%80%D0%B0%D0%B1%D0%BE%D1%82%D0%B0_4).ipynb\" target=\"_parent\"><img src=\"https://colab.research.google.com/assets/colab-badge.svg\" alt=\"Open In Colab\"/></a>"
      ]
    },
    {
      "cell_type": "markdown",
      "source": [
        "## Вариант 12"
      ],
      "metadata": {
        "id": "9Ua3rzKmvoSg"
      }
    },
    {
      "cell_type": "markdown",
      "source": [
        "1.\tДано предложение. Напечатать все различные слова."
      ],
      "metadata": {
        "id": "cUCZjOjpvwfL"
      }
    },
    {
      "cell_type": "code",
      "execution_count": null,
      "metadata": {
        "id": "IlbP0_bevgHl"
      },
      "outputs": [],
      "source": [
        "def razdel(str1):\n",
        "  str1 = str1.split()\n",
        "  word_counts = {}\n",
        "  for word in str1:\n",
        "    if word in word_counts:\n",
        "      word_counts[word] += 1\n",
        "    else:\n",
        "      word_counts[word] = 1\n",
        "  for word, count in word_counts.items():\n",
        "    if count == 1:\n",
        "      print(word)\n",
        "str1 = \"aa bb db bb aas ao rrere trt aas\"\n",
        "razdel(str)"
      ]
    },
    {
      "cell_type": "markdown",
      "source": [
        "2.\tДана строка символов. Подсчитать самую длинную последовательность подряд идущих букв а."
      ],
      "metadata": {
        "id": "xOIFcGeIv57G"
      }
    },
    {
      "cell_type": "code",
      "source": [
        "def find_posl(str1):\n",
        "  f = False\n",
        "  max_len = 0\n",
        "  c2 = 0\n",
        "  for i in str1:\n",
        "    if i == 'a':\n",
        "      c2 +=1\n",
        "      max_len = max(c2, max_len)\n",
        "    else:\n",
        "      c2 = 0\n",
        "  return max_len\n",
        "str1 = 'aaaadrtaaaaaaaaardaargfdafghaaaafgaaaaaaaaaaaaaaaa'\n",
        "print(find_posl(str1))"
      ],
      "metadata": {
        "id": "ECMsHfWvv8U0"
      },
      "execution_count": null,
      "outputs": []
    },
    {
      "cell_type": "markdown",
      "source": [
        "3.\tИз заданной символьной строки выбрать те символы, которые встречаются в ней только один раз, в том порядке, в котором они встречаются в тексте."
      ],
      "metadata": {
        "id": "zDum44NNv9KQ"
      }
    },
    {
      "cell_type": "code",
      "source": [
        "def odin(str1):\n",
        "  char_counts = {}\n",
        "  for char in str1:\n",
        "    if char in char_counts:\n",
        "      char_counts[char] += 1\n",
        "    else:\n",
        "      char_counts[char] = 1\n",
        "  for char, count in char_counts.items():\n",
        "    if count == 1:\n",
        "      print(char)\n",
        "str1 = \"aaaabfteeefruu\"\n",
        "odin(str1)"
      ],
      "metadata": {
        "id": "KDioXqgdwAP-"
      },
      "execution_count": null,
      "outputs": []
    },
    {
      "cell_type": "markdown",
      "source": [
        "### Задания на файлы"
      ],
      "metadata": {
        "id": "3hbC9eMiFxUv"
      }
    },
    {
      "cell_type": "markdown",
      "source": [
        "1.\tЗаписать в файл прямого доступа N действительных чисел. Найти наибольшее из значений модулей компонент с нечетными номерами."
      ],
      "metadata": {
        "id": "CujnZDhPwA-K"
      }
    },
    {
      "cell_type": "code",
      "source": [
        "!pip install faker\n",
        "from faker import Faker\n",
        "import random\n",
        "\n",
        "fake = Faker()\n",
        "\n",
        "def generate_random_number():\n",
        "    return str(random.uniform(-100, 100))\n",
        "\n",
        "def create_file(file_name, num_lines=10):\n",
        "    with open(file_name, 'w', encoding='utf-8') as file:\n",
        "        for _ in range(num_lines):\n",
        "            file.write(generate_random_number() + ' ')\n",
        "    return file_name\n",
        "\n",
        "def rez(file_name):\n",
        "  with open(file_name, 'r') as f:\n",
        "    numbers_str = f.read().split()\n",
        "    numbers = []\n",
        "    for num in numbers_str:\n",
        "      numbers.append(float(num))\n",
        "\n",
        "    max_abs_value = 0\n",
        "    for i in range(1, len(numbers), 2):\n",
        "      abs_value = abs(numbers[i])\n",
        "      if abs_value > max_abs_value:\n",
        "        max_abs_value = abs_value\n",
        "    return max_abs_value\n",
        "def show_file(file_name):\n",
        "  with open(file_name, 'r') as f:\n",
        "    numbers_str = f.read().split()\n",
        "    print(numbers_str)\n",
        "\n",
        "\n",
        "file_name = \"generated_file.txt\"\n",
        "N = int(input())\n",
        "create_file(file_name, N)\n",
        "show_file(file_name)\n",
        "a = rez(file_name)\n",
        "print(a)"
      ],
      "metadata": {
        "id": "r1YQj9l1GJax"
      },
      "execution_count": null,
      "outputs": []
    },
    {
      "cell_type": "markdown",
      "source": [
        "2.\tДан файл Assort, содержащий сведения об игрушках: указывается название игрушки, ее стоимость в рублях и возрастные границы (например, игрушка может предназначаться для детей от двух до пяти лет). Определить стоимость самого дорогого конструктора."
      ],
      "metadata": {
        "id": "FZCyyTUGGKAF"
      }
    },
    {
      "cell_type": "code",
      "source": [
        "import random\n",
        "\n",
        "def generate_random_toy():\n",
        "    toys = [\"Кукла\", \"Машинка\", \"Конструктор\", \"Мяч\", \"Пазл\", \"Книжка\"]\n",
        "    name = random.choice(toys)\n",
        "    price = round(random.uniform(100, 1000), 2)\n",
        "    min_age = random.randint(2, 6)\n",
        "    max_age = random.randint(min_age, 10)\n",
        "    return f\"{name},{price},{min_age}-{max_age}\"\n",
        "\n",
        "\n",
        "def create_toys_file(file_name, num_toys):\n",
        "    with open(file_name, 'w', encoding='utf-8') as file:\n",
        "        for _ in range(num_toys):\n",
        "            file.write(generate_random_toy() + '\\n')\n",
        "\n",
        "\n",
        "def rez(file_name):\n",
        "    max_constructor_price = 0\n",
        "    with open(file_name, 'r', encoding='utf-8') as file:\n",
        "      for line in file:\n",
        "        name, price, age_range = line.strip().split(',')\n",
        "        if name == \"Конструктор\":\n",
        "          price = float(price)\n",
        "          if price > max_constructor_price:\n",
        "            max_constructor_price = price\n",
        "    return max_constructor_price\n",
        "\n",
        "\n",
        "def show_file(file_name):\n",
        "  with open(file_name, 'r') as f:\n",
        "    numbers_str = f.read().split()\n",
        "    print(numbers_str)\n",
        "\n",
        "\n",
        "file_name = \"Assort.txt\"\n",
        "num_toys = 20\n",
        "create_toys_file(file_name, num_toys)\n",
        "show_file(file_name)\n",
        "most_expensive = rez(file_name)\n",
        "print(f\"Стоимость самого дорогого конструктора: {most_expensive} руб.\")"
      ],
      "metadata": {
        "id": "KeNRp_KlGNyC"
      },
      "execution_count": null,
      "outputs": []
    },
    {
      "cell_type": "markdown",
      "source": [
        "3.\tДан файл, содержащий текст и арифметические выражения вида a∙ b где ∙ — один из знаков +, -, *, /. Выписать все арифметические выражения и вычислить их значения."
      ],
      "metadata": {
        "id": "Dv71YkUwGOJS"
      }
    },
    {
      "cell_type": "code",
      "source": [
        "import random\n",
        "\n",
        "def generate_random_expression():\n",
        "    operators = ['+', '-', '*', '/']\n",
        "    num1 = random.uniform(1, 10)\n",
        "    num2 = random.uniform(1, 10)\n",
        "    operator = random.choice(operators)\n",
        "    return f\"{num1:.2f} {operator} {num2:.2f}\"\n",
        "\n",
        "\n",
        "def create_file(filename, num_expressions=10):\n",
        "    with open(filename, \"w\") as f:\n",
        "        for _ in range(num_expressions):\n",
        "            f.write(generate_random_expression() + \"\\n\")\n",
        "        f.write(\"zxcvbn\\n\")\n",
        "        f.write(\"1 2 3 4\\n\")\n",
        "        f.write(\"5 + abc\\n\")\n",
        "\n",
        "def evaluate_expression(expression):\n",
        "    a, op, b = expression.split()\n",
        "    a = float(a)\n",
        "    b = float(b)\n",
        "    if op == '+':\n",
        "        return a + b\n",
        "    elif op == '-':\n",
        "        return a - b\n",
        "    elif op == '*':\n",
        "        return a * b\n",
        "    elif op == '/':\n",
        "        if b == 0:\n",
        "            return None\n",
        "        return a / b\n",
        "    else:\n",
        "        return None\n",
        "\n",
        "def process_file(filename):\n",
        "    with open(filename, 'r') as f:\n",
        "        lines = f.readlines()\n",
        "    print(lines)\n",
        "    for line in lines:\n",
        "        parts = line.strip().split()\n",
        "        if len(parts) == 3:\n",
        "            expression = line.strip()\n",
        "            try:\n",
        "                result = evaluate_expression(expression)\n",
        "                if result is not None:\n",
        "                    print(f\"{expression} = {result:.2f}\")\n",
        "                else:\n",
        "                    print(f\"{expression} = None\")\n",
        "            except ValueError:\n",
        "                pass\n",
        "        else:\n",
        "          pass\n",
        "\n",
        "\n",
        "filename = \"expressions.txt\"\n",
        "create_file(filename)\n",
        "process_file(filename)\n"
      ],
      "metadata": {
        "colab": {
          "base_uri": "https://localhost:8080/"
        },
        "id": "b4CdY_4EDnRi",
        "outputId": "fee28641-8195-49f1-f34c-226020c421a6"
      },
      "execution_count": null,
      "outputs": [
        {
          "output_type": "stream",
          "name": "stdout",
          "text": [
            "['3.33 - 1.25\\n', '1.76 / 3.14\\n', '4.57 + 4.00\\n', '7.12 + 1.91\\n', '5.74 - 5.25\\n', '8.60 - 5.39\\n', '5.21 / 7.76\\n', '6.63 * 6.01\\n', '8.38 - 9.23\\n', '6.07 / 8.39\\n', 'zxcvbn\\n', '1 2 3 4\\n', '5 + abc\\n']\n",
            "3.33 - 1.25 = 2.08\n",
            "1.76 / 3.14 = 0.56\n",
            "4.57 + 4.00 = 8.57\n",
            "7.12 + 1.91 = 9.03\n",
            "5.74 - 5.25 = 0.49\n",
            "8.60 - 5.39 = 3.21\n",
            "5.21 / 7.76 = 0.67\n",
            "6.63 * 6.01 = 39.85\n",
            "8.38 - 9.23 = -0.85\n",
            "6.07 / 8.39 = 0.72\n"
          ]
        }
      ]
    }
  ]
}