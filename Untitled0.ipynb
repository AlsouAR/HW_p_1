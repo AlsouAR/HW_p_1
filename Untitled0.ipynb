{
  "nbformat": 4,
  "nbformat_minor": 0,
  "metadata": {
    "colab": {
      "provenance": [],
      "authorship_tag": "ABX9TyPKk+U27LnqEAS7bKf+eTKw",
      "include_colab_link": true
    },
    "kernelspec": {
      "name": "python3",
      "display_name": "Python 3"
    },
    "language_info": {
      "name": "python"
    }
  },
  "cells": [
    {
      "cell_type": "markdown",
      "metadata": {
        "id": "view-in-github",
        "colab_type": "text"
      },
      "source": [
        "<a href=\"https://colab.research.google.com/github/AlsouAR/HW_p_1/blob/main/Untitled0.ipynb\" target=\"_parent\"><img src=\"https://colab.research.google.com/assets/colab-badge.svg\" alt=\"Open In Colab\"/></a>"
      ]
    },
    {
      "cell_type": "markdown",
      "source": [
        "Вариант 1"
      ],
      "metadata": {
        "id": "MAVUXSR3mkra"
      }
    },
    {
      "cell_type": "markdown",
      "source": [
        "1.1 ![image.png](data:image/png;base64,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)"
      ],
      "metadata": {
        "id": "SiKPCN3XmzCD"
      }
    },
    {
      "cell_type": "code",
      "source": [
        "x = float(input('x = '))\n",
        "z = (x**2 - 7*x + 10)/(x**2-8*x+12)\n",
        "print(z)"
      ],
      "metadata": {
        "id": "l6pn4Dj5nNlx"
      },
      "execution_count": null,
      "outputs": []
    },
    {
      "cell_type": "markdown",
      "source": [
        "1.2 ![image.png](data:image/png;base64,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)"
      ],
      "metadata": {
        "id": "8DmUfwZznO0K"
      }
    },
    {
      "cell_type": "code",
      "source": [
        "from math import cos, sin\n",
        "x = float(input('x = '))\n",
        "y = (1 - cos(2*x) + sin(2*x))/(1+cos(2*x)+sin(2*x))\n",
        "print(y)"
      ],
      "metadata": {
        "id": "Yu45mEjNnTH1"
      },
      "execution_count": null,
      "outputs": []
    },
    {
      "cell_type": "markdown",
      "source": [
        "1.3 Заданы координаты трех вершин треугольника (x1,y1), (x2,y2), (x3,y3).Найти его периметр и площадь."
      ],
      "metadata": {
        "id": "ZqeSlnUopcDp"
      }
    },
    {
      "cell_type": "code",
      "source": [
        "from math import sqrt\n",
        "x1 = float(input('x1 ='))\n",
        "y1 = float(input('y1 ='))\n",
        "x2 = float(input('x2 ='))\n",
        "y2 = float(input('y2 ='))\n",
        "x3 = float(input('x2 ='))\n",
        "y3 = float(input('y2 ='))\n",
        "a = sqrt((x1-x2)**2 + (y1-y2)**2)\n",
        "b = sqrt((x2-x3)**2 + (y2-y3)**2)\n",
        "c = sqrt((x3-x1)**2 + (y3-y1)**2)\n",
        "P = a + b + c\n",
        "p = P/2\n",
        "S = sqrt(p*(p-a)*(p-b)*(p-c))\n",
        "print(\"P = \", P, \"\\nS =\", S)"
      ],
      "metadata": {
        "id": "ZSlaFtPapmRb"
      },
      "execution_count": null,
      "outputs": []
    },
    {
      "cell_type": "markdown",
      "source": [
        "1.4 Даны целые положительные числа A и B (A > B). На отрезке длины A размещено максимально возможное количество отрезков длины B (без наложений). Используя операцию деления нацело, найти количество отрезков B, размещенных на отрезке A."
      ],
      "metadata": {
        "id": "BdSKhpqevSRb"
      }
    },
    {
      "cell_type": "code",
      "source": [
        "A = int(input('A = '))\n",
        "B = int(input('B = '))\n",
        "print(A//B)"
      ],
      "metadata": {
        "id": "_yk90-j-vYf5"
      },
      "execution_count": null,
      "outputs": []
    },
    {
      "cell_type": "markdown",
      "source": [
        "1.5 Даны координаты двух различных полей шахматной доски x1, y1,\n",
        "x2, y2 (целые числа, лежащие в диапазоне 1–8). Проверить истинность высказывания: «Конь за один ход может перейти с одного поля на другое».\n"
      ],
      "metadata": {
        "id": "ad8__bctwDI9"
      }
    },
    {
      "cell_type": "code",
      "source": [
        "x1= int(input(\"x1 =\"))\n",
        "y1 = int(input(\"y1 =\"))\n",
        "x2= int(input(\"x2 =\"))\n",
        "y2 = int(input(\"y2 =\"))\n",
        "z = (x1 == x2) or (y1 == y2)\n",
        "print(z)"
      ],
      "metadata": {
        "id": "CvEwvUhBwLx1"
      },
      "execution_count": null,
      "outputs": []
    },
    {
      "cell_type": "markdown",
      "source": [
        "2.1 Для данного вещественного x найти значение следующей функции f, принимающей вещественные значения![функция.PNG](data:image/png;base64,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)"
      ],
      "metadata": {
        "id": "XQyWEdRewuO1"
      }
    },
    {
      "cell_type": "code",
      "source": [
        "x = float(input('x = '))\n",
        "if (x <= 3): print(x**2-3*x+9)\n",
        "else: print(1/(x**3+1))"
      ],
      "metadata": {
        "id": "44VHIzSEx_8A"
      },
      "execution_count": null,
      "outputs": []
    },
    {
      "cell_type": "markdown",
      "source": [
        "2.2 Даны три действительные числа. Возвести в квадрат те из них, значения которых неотрицательны, и в четвертую степень – отрицательные."
      ],
      "metadata": {
        "id": "3wnnNTgE0TmS"
      }
    },
    {
      "cell_type": "code",
      "source": [
        "a = float(input('a ='))\n",
        "b = float(input('b ='))\n",
        "c = float(input('c ='))\n",
        "if (a>=0): a = a**2\n",
        "else: a = a**4\n",
        "if (b>=0): b = b**2\n",
        "else: b = b**4\n",
        "if (c>=0): c = c**2\n",
        "else: c = c**4\n",
        "print(a, b, c)"
      ],
      "metadata": {
        "id": "h6XOIc2t0l5V"
      },
      "execution_count": null,
      "outputs": []
    },
    {
      "cell_type": "markdown",
      "source": [
        "2.3 Найти max {min (a, b), min (c, d)}."
      ],
      "metadata": {
        "id": "q5rQ57o701xA"
      }
    },
    {
      "cell_type": "code",
      "source": [
        "a = int(input('a ='))\n",
        "b = int(input('b ='))\n",
        "c = int(input('c ='))\n",
        "d = int(input('d ='))\n",
        "#проверка\n",
        "print(max(min(a,b), min(c,d)))\n",
        "#\n",
        "if (a<b): mn1 = a\n",
        "else: mn1 = b\n",
        "if (c<d): mn2 = c\n",
        "else: mn2 = d\n",
        "if (mn1 > mn2): print(mn1)\n",
        "else: print(mn2)"
      ],
      "metadata": {
        "id": "wcgzTz3f06mU"
      },
      "execution_count": null,
      "outputs": []
    },
    {
      "cell_type": "markdown",
      "source": [
        "2.4 Даны два различных вещественных числа. Определить:\n",
        "а) какое из них больше;\n",
        "б) какое из них меньше."
      ],
      "metadata": {
        "id": "GanVloyS07Lm"
      }
    },
    {
      "cell_type": "code",
      "source": [
        "a = float(input('a ='))\n",
        "b = float(input('b ='))\n",
        "if (a>b): print('a - больше, b - меньше')\n",
        "else: print('b - больше, a - меньше')"
      ],
      "metadata": {
        "id": "4Viaz0-_1BS_"
      },
      "execution_count": null,
      "outputs": []
    },
    {
      "cell_type": "markdown",
      "source": [
        "2.5 Составить программу, которая в зависимости от порядкового номера дня недели (1, 2, ..., 7) выводит на экран его название (понедельник, вторник, ...,воскресенье)."
      ],
      "metadata": {
        "id": "sp145MUO1Ceq"
      }
    },
    {
      "cell_type": "code",
      "source": [
        "def switch_case(case):\n",
        "   return {\n",
        "       1 : \"Monday\",\n",
        "       2 : \"Tuesday\",\n",
        "       3 : \"Wednesday \",\n",
        "       4 : \"Thursday\",\n",
        "       5 : \"Friday\",\n",
        "       6 : \"Saturday\",\n",
        "       7 : \"Sunday\"\n",
        "    }.get(case, \"Error\")\n",
        "n= int(input(\"n =\"))\n",
        "print(switch_case(n))"
      ],
      "metadata": {
        "id": "v7AaAqNF1IMJ"
      },
      "execution_count": null,
      "outputs": []
    },
    {
      "cell_type": "markdown",
      "source": [
        "3.1 Имеется серия измерений элементов треугольника. Группы элементов пронумерованы. В серии в произвольном порядке могут встречаться такие группы элементов треугольника:\n",
        "✔\tоснование и высота;\n",
        "✔\tдве стороны и угол между ними (угол задан в радианах);\n",
        "✔\tтри стороны.\n",
        "3.2 Составить программу, которая запрашивает номер группы элементов, вводит соответствующие элементы и вычисляет площадь треугольника. Вычисления прекратить, если в качестве номера группы введен 0."
      ],
      "metadata": {
        "id": "jfeK4fthGXzt"
      }
    },
    {
      "cell_type": "code",
      "source": [
        "from math import sin, sqrt\n",
        "n = int(input('n = '))\n",
        "while n != 0:\n",
        "  if (n == 1):\n",
        "    a = float(input('a = '))\n",
        "    h = float(input('h = '))\n",
        "    print('S =', a*h)\n",
        "  elif(n == 2):\n",
        "    a = float(input('a = '))\n",
        "    b = float(input('b = '))\n",
        "    angle = float(input('angle = '))\n",
        "    print('S =', a*b*sin(angle))\n",
        "  elif(n == 3):\n",
        "    a = float(input('a = '))\n",
        "    b = float(input('b = '))\n",
        "    c = float(input('c = '))\n",
        "    p = (a+b+c)/2\n",
        "    print('S =', sqrt(p*(p-a)*(p-b)*(p-c)))\n",
        "  n = int(input('n = '))\n",
        "print('The end')"
      ],
      "metadata": {
        "id": "vbCpBSaxH1Wu"
      },
      "execution_count": null,
      "outputs": []
    },
    {
      "cell_type": "markdown",
      "source": [
        "3.3 Дано натуральное число N. Вычислить: S = ![image.png](data:image/png;base64,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)"
      ],
      "metadata": {
        "id": "NZkpBk4CH7mS"
      }
    },
    {
      "cell_type": "code",
      "source": [
        "n = int(input(\"n:\"))\n",
        "S=0\n",
        "for i in range(0,n+1):\n",
        "    S+=(-1)**i*(1/2**i)\n",
        "print('S=',S)"
      ],
      "metadata": {
        "id": "6R1iPtb9ITG6"
      },
      "execution_count": null,
      "outputs": []
    },
    {
      "cell_type": "markdown",
      "source": [
        "3.4\t Найти сумму ряда с точностью ε=0,001, общий член которого: ![image.png](data:image/png;base64,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)"
      ],
      "metadata": {
        "id": "N66ESWQhITpL"
      }
    },
    {
      "cell_type": "code",
      "source": [
        "S=0\n",
        "e = 0.001\n",
        "a = 1.0\n",
        "i = 1\n",
        "while abs(a) > e:\n",
        "    a = (-1)**(i-1)/(i**i)\n",
        "    S+=a\n",
        "    i+=1\n",
        "print('S=',S)"
      ],
      "metadata": {
        "id": "ui8zhRpvIiuP"
      },
      "execution_count": null,
      "outputs": []
    },
    {
      "cell_type": "markdown",
      "source": [
        "4.1 Дано натуральное число N. Составить процедуру (функцию) формирования массива, элементами которого являются цифры числа N."
      ],
      "metadata": {
        "id": "i1X_TsLiTExr"
      }
    },
    {
      "cell_type": "code",
      "source": [
        "def massiv(N, mas):\n",
        "  a = N\n",
        "  while a > 0:\n",
        "    mas.insert(0,a%10)\n",
        "    a //= 10\n",
        "N =int(input('N = '))\n",
        "mas = []\n",
        "massiv(N, mas)\n",
        "print(mas)"
      ],
      "metadata": {
        "id": "XlcYv9tMTO1G"
      },
      "execution_count": null,
      "outputs": []
    },
    {
      "cell_type": "markdown",
      "source": [
        "4.2 Треугольник задан координатами своих вершин. Составить функцию вычисления его площади."
      ],
      "metadata": {
        "id": "DM2Mq3g0TvC8"
      }
    },
    {
      "cell_type": "code",
      "source": [
        "from math import sqrt\n",
        "def S(x1, y1, x2, y2, x3, y3):\n",
        "  a = sqrt((x1-x2)**2 + (y1-y2)**2)\n",
        "  b = sqrt((x2-x3)**2 + (y2-y3)**2)\n",
        "  c = sqrt((x3-x1)**2 + (y3-y1)**2)\n",
        "  p = (a + b + c)/2\n",
        "  return(sqrt(p*(p-a)*(p-b)*(p-c)))\n",
        "x1 = float(input('x1 ='))\n",
        "y1 = float(input('y1 ='))\n",
        "x2 = float(input('x2 ='))\n",
        "y2 = float(input('y2 ='))\n",
        "x3 = float(input('x2 ='))\n",
        "y3 = float(input('y2 ='))\n",
        "print(S(x1, y1, x2, y2, x3, y3))"
      ],
      "metadata": {
        "id": "_iO27R1fTxlb"
      },
      "execution_count": null,
      "outputs": []
    },
    {
      "cell_type": "markdown",
      "source": [
        "4.3 Найдите сумму цифр заданного натурального числа, используя рекурсивную подпрограмму."
      ],
      "metadata": {
        "id": "0UkSVADMTyKd"
      }
    },
    {
      "cell_type": "code",
      "source": [
        "def sum_ch(n):\n",
        "  if (n == 0): return 0\n",
        "  else:\n",
        "    return n%10 + sum_ch(n//10)\n",
        "n = int(input('n = '))\n",
        "print(sum_ch(n))"
      ],
      "metadata": {
        "id": "r80wgM04T3ke"
      },
      "execution_count": null,
      "outputs": []
    }
  ]
}