{
  "nbformat": 4,
  "nbformat_minor": 0,
  "metadata": {
    "colab": {
      "provenance": [],
      "authorship_tag": "ABX9TyOd1fWk5r6FnyEKskIKNWwn",
      "include_colab_link": true
    },
    "kernelspec": {
      "name": "python3",
      "display_name": "Python 3"
    },
    "language_info": {
      "name": "python"
    }
  },
  "cells": [
    {
      "cell_type": "markdown",
      "metadata": {
        "id": "view-in-github",
        "colab_type": "text"
      },
      "source": [
        "<a href=\"https://colab.research.google.com/github/AlsouAR/HW_p_1/blob/main/%D0%90%D0%B1%D1%81%D0%B0%D1%82%D1%82%D0%B0%D1%80%D0%BE%D0%B2%D0%B0_%D0%90%D0%BB%D1%81%D1%83(%D1%80%D0%B0%D0%B1%D0%BE%D1%82%D0%B0_3).ipynb\" target=\"_parent\"><img src=\"https://colab.research.google.com/assets/colab-badge.svg\" alt=\"Open In Colab\"/></a>"
      ]
    },
    {
      "cell_type": "markdown",
      "source": [
        "# Dictionary"
      ],
      "metadata": {
        "id": "Csa5CW0utgGI"
      }
    },
    {
      "cell_type": "markdown",
      "source": [
        "1. Подсчет частоты слов: Напишите функцию, которая принимает строку и возвращает словарь, где ключи — это слова, а значения — их частота в строке."
      ],
      "metadata": {
        "id": "L4scQfpxb_VG"
      }
    },
    {
      "cell_type": "code",
      "source": [
        "def string_converter(text):\n",
        "  strr = text.split()\n",
        "  strr1 = []\n",
        "  for i in range(len(strr)):\n",
        "    c = 0\n",
        "    for j in range(len(strr)):\n",
        "      if (strr[i] == strr[j]):\n",
        "        c += 1\n",
        "    strr1.append((strr[i], c))\n",
        "  return strr1\n",
        "text = 'a b b a c g r t s c t'\n",
        "Dictionary = dict(string_converter(text))\n",
        "for key in Dictionary:\n",
        "    print(f\"Слово: {key}  Частота: {Dictionary[key]} \")"
      ],
      "metadata": {
        "id": "RszP5wdecRzI"
      },
      "execution_count": null,
      "outputs": []
    },
    {
      "cell_type": "markdown",
      "source": [
        "2. Инвертирование словаря: Напишите функцию, которая принимает словарь и возвращает новый словарь, где ключи и значения поменяны местами. Если значения не уникальны, объедините ключи в список."
      ],
      "metadata": {
        "id": "0THTthAElstR"
      }
    },
    {
      "cell_type": "code",
      "source": [
        "def exchange(Dict1):\n",
        "  Dict2 = {}\n",
        "  for key, value in Dict1.items():\n",
        "    if value in Dict2:\n",
        "      if isinstance(Dict2[value], list):\n",
        "        Dict2[value].append(key)\n",
        "      else:\n",
        "        Dict2[value] = [Dict2[value], key]\n",
        "    else:\n",
        "      Dict2[value] = key\n",
        "  return Dict2\n",
        "\n",
        "Dict1 = {\"+11111111\": \"Annya\", \"+33333333\": \"Zukhra\",\n",
        "         \"+55555555\": \"Alice\", \"+2\": \"Zukhra\"}\n",
        "Dict2 = exchange(Dict1)\n",
        "for key in Dict2:\n",
        "    print(f\"ключ: {key}  слово: {Dict2[key]}\")"
      ],
      "metadata": {
        "id": "rDEHQAlfl9aM"
      },
      "execution_count": null,
      "outputs": []
    },
    {
      "cell_type": "markdown",
      "source": [
        "3. Слияние словарей: Напишите функцию, которая принимает два словаря и возвращает новый словарь, содержащий все ключи из обоих словарей. Если ключи совпадают, значения должны быть суммированы."
      ],
      "metadata": {
        "id": "qMkz-PuWrxZw"
      }
    },
    {
      "cell_type": "code",
      "source": [
        "def merger(dict1, dict2):\n",
        "    dict3 = dict1.copy()\n",
        "    for key, value in dict2.items():\n",
        "        if key in dict3:\n",
        "            dict3[key] = dict3[key]+value\n",
        "        else:\n",
        "            dict3[key] = value\n",
        "    return dict3\n",
        "dict1 = {\"1\": \"aaa\", '2': 'rrr', '3':'twr'}\n",
        "dict2 = {'4':'mnt', '5':'y', '2':'Q'}\n",
        "dict3 = merger(dict1, dict2)\n",
        "for key in dict3:\n",
        "    print(f\"ключ: {key}  слово: {dict3[key]}\")"
      ],
      "metadata": {
        "id": "Q_0Y6kPmsE7D"
      },
      "execution_count": null,
      "outputs": []
    },
    {
      "cell_type": "markdown",
      "source": [
        "4. Фильтрация по значению: Напишите функцию, которая принимает словарь и пороговое значение, и возвращает новый словарь, содержащий только те пары ключ-значение, где значение больше порогового."
      ],
      "metadata": {
        "id": "15LqF0qUHdD6"
      }
    },
    {
      "cell_type": "code",
      "source": [
        "def porog(dict1, znach):\n",
        "  dict2 = {}\n",
        "  for key, value in dict1.items():\n",
        "    if value > znach:\n",
        "      dict2[key] = value\n",
        "  return dict2\n",
        "dict1 = {'1':333, '2':21, '3':555, '4':1}\n",
        "dict2 = porog(dict1, 100)\n",
        "for key in dict2:\n",
        "    print(f\"ключ: {key}  слово: {dict2[key]}\")"
      ],
      "metadata": {
        "id": "3HYFjxVcHoeC"
      },
      "execution_count": null,
      "outputs": []
    },
    {
      "cell_type": "markdown",
      "source": [
        "5. Максимальное значение: Напишите функцию, которая находит ключ с максимальным значением в словаре."
      ],
      "metadata": {
        "id": "sVeOKM2YT1yM"
      }
    },
    {
      "cell_type": "code",
      "source": [
        "def Max(Dict):\n",
        "  mx = float('-inf')\n",
        "  for key, value in Dict.items():\n",
        "      if mx < value:\n",
        "          mx = value\n",
        "          k = key\n",
        "  return k\n",
        "dict1 = {'ss1':1, 'ss2':5, 'ss3':2}\n",
        "print(Max(dict1))\n",
        "dict2 = {'ss':-210, 'sd':-80, 'sl':-100}\n",
        "print(Max(dict2))"
      ],
      "metadata": {
        "id": "aRAtzeTmUFtf"
      },
      "execution_count": null,
      "outputs": []
    },
    {
      "cell_type": "markdown",
      "source": [
        "6. Удаление ключей: Напишите функцию, которая принимает словарь и список ключей, и удаляет из словаря все указанные ключи."
      ],
      "metadata": {
        "id": "_sWcR4bGffXW"
      }
    },
    {
      "cell_type": "code",
      "source": [
        "def deleting(Dict, mas):\n",
        "  for i in mas:\n",
        "    del Dict[i]\n",
        "Dict = {\"1\": \"aaa\", '2': 'rrr', '3':'twr', '4':'mnt', '5':'y'}\n",
        "mas = ['1', '3']\n",
        "deleting(Dict, mas)\n",
        "print(Dict)"
      ],
      "metadata": {
        "id": "c5g6_jbViUFB"
      },
      "execution_count": null,
      "outputs": []
    },
    {
      "cell_type": "markdown",
      "source": [
        "7. Группировка по длине ключей: Напишите функцию, которая группирует ключи словаря по их длине и возвращает словарь, где ключи — это длины, а значения — списки ключей соответствующей длины."
      ],
      "metadata": {
        "id": "f0T3C7EZmIPl"
      }
    },
    {
      "cell_type": "code",
      "source": [
        "def group(dict1):\n",
        "  dict2 = {}\n",
        "  for key in dict1:\n",
        "    if len(key) in dict2:\n",
        "      dict2[len(key)].append(key)\n",
        "    else:\n",
        "      dict2[len(key)] = [key]\n",
        "  return dict2\n",
        "dict1 = {'324': \"aaa\", '2': 'rrr', '36':'twr', '488':'mnt', '55':'y',\n",
        "         '3':'twr', '4444':'rrr', '5':'y', '6':'rrr'}\n",
        "print(group(dict1))"
      ],
      "metadata": {
        "id": "CAvE3ccGmLeL"
      },
      "execution_count": null,
      "outputs": []
    },
    {
      "cell_type": "markdown",
      "source": [
        "8. Поиск ключей по значению: Напишите функцию, которая принимает словарь и значение, и возвращает список всех ключей, связанных с этим значением."
      ],
      "metadata": {
        "id": "yvukZmugjbf2"
      }
    },
    {
      "cell_type": "code",
      "source": [
        "def search(Dict, znach):\n",
        "  mas = []\n",
        "  for key, value in Dict.items():\n",
        "    if znach == value:\n",
        "      mas.append(key)\n",
        "  return mas\n",
        "Dict = {\"1\": \"aaa\", '2': 'rrr', '3':'twr', '4':'rrr', '5':'y', '6':'rrr'}\n",
        "search(Dict, 'rrr')"
      ],
      "metadata": {
        "id": "r8TNT3V3j-4c"
      },
      "execution_count": null,
      "outputs": []
    },
    {
      "cell_type": "markdown",
      "source": [
        "9. Уникальные значения: Напишите функцию, которая возвращает множество уникальных значений из словаря."
      ],
      "metadata": {
        "id": "dDEHR7YYrEKf"
      }
    },
    {
      "cell_type": "code",
      "source": [
        "def unique(Dict):\n",
        "  a = set()\n",
        "  for i in Dict.values():\n",
        "    f = 0\n",
        "    for j in Dict.values():\n",
        "      if i == j:\n",
        "        f += 1\n",
        "        if f > 1:\n",
        "          continue\n",
        "    if f == 1:\n",
        "      a.add(i)\n",
        "  return a\n",
        "Dict = {\"1\": \"aaa\", '2': 'rrr', '3':'twr', '4':'rrr', '5':'y', '6':'rrr'}\n",
        "print(unique(Dict))"
      ],
      "metadata": {
        "id": "lA_qLtgFrGdh"
      },
      "execution_count": null,
      "outputs": []
    },
    {
      "cell_type": "markdown",
      "source": [
        "10. Сумма значений: Напишите функцию, которая вычисляет сумму всех значений в словаре."
      ],
      "metadata": {
        "id": "0ssPia5OluTV"
      }
    },
    {
      "cell_type": "code",
      "source": [
        "def summ(Dict):\n",
        "  s = 0\n",
        "  for value in Dict.values():\n",
        "    s += value\n",
        "  return s\n",
        "Dict = {'41':333, '32':21, '3556':555, '04':1}\n",
        "print(summ(Dict))"
      ],
      "metadata": {
        "id": "_ZzNaxyRpwoW"
      },
      "execution_count": null,
      "outputs": []
    },
    {
      "cell_type": "markdown",
      "source": [
        "# Множества"
      ],
      "metadata": {
        "id": "AokIytbkqd8F"
      }
    },
    {
      "cell_type": "markdown",
      "source": [
        "1. Создание множества из списка: Напишите функцию, которая принимает список и возвращает множество, содержащее уникальные элементы списка."
      ],
      "metadata": {
        "id": "Fih-p03gtt3L"
      }
    },
    {
      "cell_type": "code",
      "source": [
        "def unique_set(mas):\n",
        "  s = set(mas)\n",
        "  return s\n",
        "mas = [1, 5, 4, 4, 1, 2]\n",
        "s = unique_set(mas)\n",
        "print(s)"
      ],
      "metadata": {
        "id": "jh-nrt_gt3bS"
      },
      "execution_count": null,
      "outputs": []
    },
    {
      "cell_type": "markdown",
      "source": [
        "2. Удаление дубликатов: Напишите функцию, которая удаляет дубликаты из списка с помощью множества и возвращает новый список."
      ],
      "metadata": {
        "id": "QSZncdcx_v5y"
      }
    },
    {
      "cell_type": "code",
      "source": [
        "def unique_set(mas):\n",
        "  s = set(mas)\n",
        "  s = list(s)\n",
        "  return s\n",
        "mas = [1, 5, 4, 4, 1, 2]\n",
        "s = unique_set(mas)\n",
        "print(s)"
      ],
      "metadata": {
        "id": "3Afjp_CS_7uV"
      },
      "execution_count": null,
      "outputs": []
    },
    {
      "cell_type": "markdown",
      "source": [
        "3. Пересечение множеств: Напишите функцию, которая принимает два множества и возвращает их пересечение."
      ],
      "metadata": {
        "id": "ZT7-HCEoAWQs"
      }
    },
    {
      "cell_type": "code",
      "source": [
        "def peresech(set1, set2):\n",
        "  set3 = set1.intersection(set2)\n",
        "  return set3\n",
        "set1 = {\"Tom\", \"Bob\", \"Alice\"}\n",
        "set2 = {\"Sam\", \"Kate\", \"Bob\"}\n",
        "print(peresech(set1, set2))"
      ],
      "metadata": {
        "id": "VhwzXluGAbhn"
      },
      "execution_count": null,
      "outputs": []
    },
    {
      "cell_type": "markdown",
      "source": [
        "4. Удаление элементов: Напишите функцию, которая удаляет из множества все элементы, присутствующие в списке."
      ],
      "metadata": {
        "id": "gIAeHVToCMKw"
      }
    },
    {
      "cell_type": "code",
      "source": [
        "def del_masinset(mas, set1):\n",
        "  for el in mas:\n",
        "    if el in set1:\n",
        "      set1.remove(el)\n",
        "set1 = {1, 2, 3, 4, 6, 8, 15}\n",
        "mas = [2, 3, 5, 6]\n",
        "del_masinset(mas, set1)\n",
        "print(set1)"
      ],
      "metadata": {
        "id": "QKzndYhaCNwH"
      },
      "execution_count": null,
      "outputs": []
    },
    {
      "cell_type": "markdown",
      "source": [
        "5. Элементы, встречающиеся только в одном множестве: Напишите функцию, которая находит элементы, которые есть только в одном из двух множеств."
      ],
      "metadata": {
        "id": "KyFPZDTYE_Nn"
      }
    },
    {
      "cell_type": "code",
      "source": [
        "def uniq(set1, set2):\n",
        "  set3 = set1 ^ set2\n",
        "  return set3\n",
        "set1 = {1, 2, 3, 4, 6, 8, 15}\n",
        "set2 = {2, 3, 5, 6}\n",
        "print(uniq(set1, set2))"
      ],
      "metadata": {
        "id": "sx0fRR-4FC7C"
      },
      "execution_count": null,
      "outputs": []
    },
    {
      "cell_type": "markdown",
      "source": [
        "6. Общие элементы: Напишите функцию, которая находит общие элементы двух списков с помощью множеств."
      ],
      "metadata": {
        "id": "5F8Zw8DDF9rP"
      }
    },
    {
      "cell_type": "code",
      "source": [
        "def ob(mas1, mas2):\n",
        "  set1 = set(mas1)\n",
        "  set2 = set(mas2)\n",
        "  set3 = set1.intersection(set2)\n",
        "  set3 = list(set3)\n",
        "  return set3\n",
        "mas1 = [1, 2, 3, 4, 6, 8, 15]\n",
        "mas2 = [2, 3, 5, 6]\n",
        "print(ob(mas1, mas2))"
      ],
      "metadata": {
        "id": "nDGkL4_OGEd1"
      },
      "execution_count": null,
      "outputs": []
    },
    {
      "cell_type": "markdown",
      "source": [
        "7. Количество уникальных элементов: Напишите функцию, которая возвращает количество уникальных элементов в списке с помощью множества."
      ],
      "metadata": {
        "id": "rLWLgJUfHYh3"
      }
    },
    {
      "cell_type": "code",
      "source": [
        "def kol_iniq(mas):\n",
        "  s = set(mas)\n",
        "  return len(s)\n",
        "mas = [1, 5, 4, 4, 1, 2]\n",
        "print(kol_iniq(mas))"
      ],
      "metadata": {
        "id": "tIlDcW1hHmKI"
      },
      "execution_count": null,
      "outputs": []
    },
    {
      "cell_type": "markdown",
      "source": [
        "8. Проверка на наличие общих элементов: Напишите функцию, которая проверяет, имеют ли два множества хотя бы один общий элемент."
      ],
      "metadata": {
        "id": "-FDLu95CIZ6S"
      }
    },
    {
      "cell_type": "code",
      "source": [
        "def ob_el(set1, set2):\n",
        "  f = False\n",
        "  for i in set1:\n",
        "    if i in set2:\n",
        "      f = True\n",
        "      break\n",
        "  return f\n",
        "set1 = {1, 2, 3, 4, 6, 8, 15}\n",
        "set2 = {9, 13, 5, 6}\n",
        "print(ob_el(set1, set2))"
      ],
      "metadata": {
        "id": "4XG-aBGPI22_"
      },
      "execution_count": null,
      "outputs": []
    },
    {
      "cell_type": "markdown",
      "source": [
        "9. Разделение на группы: Напишите функцию, которая разделяет множество строк на две группы: строки с четной длиной и строки с нечетной длиной."
      ],
      "metadata": {
        "id": "r9JOjuJrJnar"
      }
    },
    {
      "cell_type": "code",
      "source": [
        "def chet_nchet(set1):\n",
        "  mas1 = []\n",
        "  mas2 = []\n",
        "  for i in set1:\n",
        "    if len(i)%2 == 0:\n",
        "      mas1.append(i)\n",
        "    else:\n",
        "      mas2.append(i)\n",
        "  return mas1, mas2\n",
        "set1 = {\"Tom\", \"Bob\", \"Alice\", \"Kate\", \"Alia\"}\n",
        "print(chet_nchet(set1))"
      ],
      "metadata": {
        "id": "UHhNcw2PKDYP"
      },
      "execution_count": null,
      "outputs": []
    },
    {
      "cell_type": "markdown",
      "source": [
        "10. Проверка на взаимоисключающие множества: Напишите функцию, которая проверяет, являются ли два множества взаимоисключающими (т.е. не имеют общих элементов)."
      ],
      "metadata": {
        "id": "2TPCb6isMCOT"
      }
    },
    {
      "cell_type": "code",
      "source": [
        "def bez_ob_el(set1, set2):\n",
        "  set3 = set1.intersection(set2)\n",
        "  if len(set3) > 0:\n",
        "    return False\n",
        "  else:\n",
        "    return True\n",
        "set1 = {\"Tom\", \"Bob\", \"Alice\"}\n",
        "set2 = {\"Kate\", \"Alia\"}\n",
        "print(bez_ob_el(set1, set2))"
      ],
      "metadata": {
        "id": "OJjkGoEpMV2J"
      },
      "execution_count": null,
      "outputs": []
    },
    {
      "cell_type": "markdown",
      "source": [
        "# Tuple"
      ],
      "metadata": {
        "id": "SDFxWK14NXbC"
      }
    },
    {
      "cell_type": "markdown",
      "source": [
        "1. Создание кортежа из списка: Напишите функцию, которая принимает список и возвращает кортеж, содержащий те же элементы."
      ],
      "metadata": {
        "id": "wIcwQhkMNcoH"
      }
    },
    {
      "cell_type": "code",
      "source": [
        "def Tuple(mas):\n",
        "  tuple1 = tuple(mas)\n",
        "  return tuple1\n",
        "mas = [1, 2, 3, 4]\n",
        "print(Tuple(mas))"
      ],
      "metadata": {
        "id": "my0fWBgINhg2"
      },
      "execution_count": null,
      "outputs": []
    },
    {
      "cell_type": "markdown",
      "source": [
        "2. Объединение кортежей: Напишите функцию, которая принимает два кортежа и возвращает их объединение."
      ],
      "metadata": {
        "id": "4ONjZE5ejyvQ"
      }
    },
    {
      "cell_type": "code",
      "source": [
        "def merge_tuples(tuple1, tuple2):\n",
        "    return tuple1 + tuple2\n",
        "tuple1 = (1, 2, 3)\n",
        "tuple2 = (4, 5, 6)\n",
        "print(merge_tuples(tuple1, tuple2))"
      ],
      "metadata": {
        "id": "faSvvYiqkvh-"
      },
      "execution_count": null,
      "outputs": []
    },
    {
      "cell_type": "markdown",
      "source": [
        "3. Проверка на наличие элемента: Напишите функцию, которая проверяет, содержится ли заданный элемент в кортеже."
      ],
      "metadata": {
        "id": "Pb1bz9S1lLUg"
      }
    },
    {
      "cell_type": "code",
      "source": [
        "def element_exists(element, tuple1):\n",
        "  for item in tuple1:\n",
        "    if item == element:\n",
        "      return True\n",
        "  return False\n",
        "my_tuple = (10, 20, 30, 40, 50)\n",
        "search_element = 30\n",
        "print(element_exists(search_element, my_tuple))"
      ],
      "metadata": {
        "id": "CyaJis5_lQao"
      },
      "execution_count": null,
      "outputs": []
    },
    {
      "cell_type": "markdown",
      "source": [
        "4. Индекс первого вхождения: Напишите функцию, которая находит индекс первого вхождения заданного элемента в кортеже."
      ],
      "metadata": {
        "id": "1-pCdWwerXlG"
      }
    },
    {
      "cell_type": "code",
      "source": [
        "def find_first_index(element, tuple_data):\n",
        "  for i in range(len(tuple_data)):\n",
        "    if tuple_data[i] == element:\n",
        "      return i\n",
        "  return -1\n",
        "my_tuple = (5, 10, 15, 15, 20)\n",
        "search_element = 15\n",
        "index = find_first_index(search_element, my_tuple)\n",
        "if index != -1:\n",
        "  print(f\"Первое вхождение элемента по индексу {index}\")\n",
        "else:\n",
        "  print(f\"Элемент не найден\")"
      ],
      "metadata": {
        "id": "7vxe9js1rcUO"
      },
      "execution_count": null,
      "outputs": []
    },
    {
      "cell_type": "markdown",
      "source": [
        "5. Количество вхождений элемента: Напишите функцию, которая подсчитывает, сколько раз заданный элемент встречается в кортеже."
      ],
      "metadata": {
        "id": "JPyf48ixsVS1"
      }
    },
    {
      "cell_type": "code",
      "source": [
        "def count_occurrences(element, tuple_data):\n",
        "  count = 0\n",
        "  for item in tuple_data:\n",
        "    if item == element:\n",
        "      count += 1\n",
        "  return count\n",
        "my_tuple = (1, 2, 2, 3, 2, 4, 2)\n",
        "search_element = 2\n",
        "print(count_occurrences(search_element, my_tuple))"
      ],
      "metadata": {
        "id": "J1wd9jY7sZbc"
      },
      "execution_count": null,
      "outputs": []
    },
    {
      "cell_type": "markdown",
      "source": [
        "6. Максимальный элемент: Напишите функцию, которая находит максимальный элемент в кортеже."
      ],
      "metadata": {
        "id": "cvyx0uGts_6S"
      }
    },
    {
      "cell_type": "code",
      "source": [
        "def find_maximum(tuple_data):\n",
        "  mx= tuple_data[0]\n",
        "  for item in tuple_data:\n",
        "    if item > mx:\n",
        "      mx = item\n",
        "  return mx\n",
        "\n",
        "my_tuple = (15, 5, 20, 10, 25)\n",
        "print(find_maximum(my_tuple))"
      ],
      "metadata": {
        "id": "jihTuVSGtGO8"
      },
      "execution_count": null,
      "outputs": []
    },
    {
      "cell_type": "markdown",
      "source": [
        "7. Минимальный элемент: Напишите функцию, которая находит минимальный элемент в кортеже."
      ],
      "metadata": {
        "id": "J2VanBf0tk5n"
      }
    },
    {
      "cell_type": "code",
      "source": [
        "def find_minimum(tuple_data):\n",
        "  mn= tuple_data[0]\n",
        "  for item in tuple_data:\n",
        "    if item < mn:\n",
        "      mn = item\n",
        "  return mn\n",
        "\n",
        "my_tuple = (15, 5, 20, 10, 25)\n",
        "print(find_minimum(my_tuple))"
      ],
      "metadata": {
        "id": "0tFeUYZPtv54"
      },
      "execution_count": null,
      "outputs": []
    },
    {
      "cell_type": "markdown",
      "source": [
        "8. Сортировка кортежа: Напишите функцию, которая возвращает отсортированный список на основе элементов кортежа."
      ],
      "metadata": {
        "id": "XeSZCxLdt6_T"
      }
    },
    {
      "cell_type": "code",
      "source": [
        "def sort_tuple(tuple_data):\n",
        "  list_data = []\n",
        "  for element in tuple_data:\n",
        "    list_data.append(element)\n",
        "  n = len(list_data)\n",
        "  for i in range(n):\n",
        "    for j in range(0, n - i - 1):\n",
        "      if list_data[j] > list_data[j + 1]:\n",
        "        list_data[j], list_data[j + 1] = list_data[j + 1], list_data[j]\n",
        "  return list_data\n",
        "\n",
        "my_tuple = (5, 2, 8, 1, 9, 4)\n",
        "print(sort_tuple(my_tuple))"
      ],
      "metadata": {
        "id": "cBQPr1WUuQUP"
      },
      "execution_count": null,
      "outputs": []
    },
    {
      "cell_type": "markdown",
      "source": [
        "9. Разбиение кортежа: Напишите функцию, которая разбивает кортеж на две части: первую половину и вторую половину."
      ],
      "metadata": {
        "id": "mYq3PnjyuqZi"
      }
    },
    {
      "cell_type": "code",
      "source": [
        "def split_tuple(tuple1):\n",
        "  first_half = tuple1[0:len(tuple1)//2]\n",
        "  second_half = (tuple1[len(tuple1)//2:])\n",
        "  return (first_half, second_half)\n",
        "\n",
        "my_tuple = (1, 2, 3, 4, 5, 6)\n",
        "first, second = split_tuple(my_tuple)\n",
        "print(f\"Первая половина: {first}\")\n",
        "print(f\"Вторая половина: {second}\")"
      ],
      "metadata": {
        "id": "aclLQGP-uwz6"
      },
      "execution_count": null,
      "outputs": []
    },
    {
      "cell_type": "markdown",
      "source": [
        "10. Обратный порядок: Напишите функцию, которая возвращает кортеж с элементами в обратном порядке."
      ],
      "metadata": {
        "id": "Ta9w-M6wwckG"
      }
    },
    {
      "cell_type": "code",
      "source": [
        "def reverse_tuple(tuple1):\n",
        "  reversed_tuple = tuple1[::-1]\n",
        "  return reversed_tuple\n",
        "\n",
        "my_tuple = (10, 20, 30, 40, 50)\n",
        "reversed_tuple = reverse_tuple(my_tuple)\n",
        "print(reversed_tuple)"
      ],
      "metadata": {
        "id": "W6_40X_iwgEn"
      },
      "execution_count": null,
      "outputs": []
    }
  ]
}