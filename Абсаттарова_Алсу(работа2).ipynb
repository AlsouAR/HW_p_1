{
  "nbformat": 4,
  "nbformat_minor": 0,
  "metadata": {
    "colab": {
      "provenance": [],
      "authorship_tag": "ABX9TyMy7NZlpIrUK44yhbdXlepb",
      "include_colab_link": true
    },
    "kernelspec": {
      "name": "python3",
      "display_name": "Python 3"
    },
    "language_info": {
      "name": "python"
    }
  },
  "cells": [
    {
      "cell_type": "markdown",
      "metadata": {
        "id": "view-in-github",
        "colab_type": "text"
      },
      "source": [
        "<a href=\"https://colab.research.google.com/github/AlsouAR/HW_p_1/blob/main/%D0%90%D0%B1%D1%81%D0%B0%D1%82%D1%82%D0%B0%D1%80%D0%BE%D0%B2%D0%B0_%D0%90%D0%BB%D1%81%D1%83(%D1%80%D0%B0%D0%B1%D0%BE%D1%82%D0%B02).ipynb\" target=\"_parent\"><img src=\"https://colab.research.google.com/assets/colab-badge.svg\" alt=\"Open In Colab\"/></a>"
      ]
    },
    {
      "cell_type": "markdown",
      "source": [
        "Вариант 12"
      ],
      "metadata": {
        "id": "ZwJ0dc1LkL1K"
      }
    },
    {
      "cell_type": "markdown",
      "source": [
        "1. Создайте класс Profile с полями имя пользователя, электронная почта и дата рождения. Реализуйте методы update_email(new_email), который обновляет электронную почту, и display_info(), который выводит информацию о профиле."
      ],
      "metadata": {
        "id": "C30r9REQk2P7"
      }
    },
    {
      "cell_type": "code",
      "source": [
        "class Profile:\n",
        "  def __init__(self, name, email, date_b):\n",
        "    self.name = name\n",
        "    self.email = email\n",
        "    self.date_b = date_b\n",
        "  def update_email(self, new_email):\n",
        "    self.email = new_email\n",
        "  def display_info(self):\n",
        "    print(f\"Имя: {self.name}, Эл.почта: {self.email}, Возраст: {self.date_b}\")\n",
        "p = Profile(\"Alsu\", \"Alsu@mail.com\", \"04.02.2005\")\n",
        "p.display_info()\n",
        "p.update_email(\"123Alsu@mail.com\")\n",
        "p.display_info()"
      ],
      "metadata": {
        "id": "kCoypI0hkuRt"
      },
      "execution_count": null,
      "outputs": []
    },
    {
      "cell_type": "markdown",
      "source": [
        "2. Определите класс Client, который наследуется от класса Profile. Класс Client должен добавлять поле баланс и методы для обновления баланса и отображения информации о клиенте"
      ],
      "metadata": {
        "id": "HmV4VXdvvJqO"
      }
    },
    {
      "cell_type": "code",
      "source": [
        "class Profile:\n",
        "  def __init__(self, name, email, date_b):\n",
        "    self.name = name\n",
        "    self.email = email\n",
        "    self.date_b = date_b\n",
        "  def update_email(self, new_email):\n",
        "    self.email = new_email\n",
        "  def display_info(self):\n",
        "    print(f\"Имя: {self.name}, Эл.почта: {self.email}, Возраст: {self.date_b}\")\n",
        "class Client(Profile):\n",
        "  def __init__(self, name, email, date_b, balance):\n",
        "    super().__init__(name, email, date_b)\n",
        "    self.balance = balance\n",
        "  def new_balance(self, new_b):\n",
        "    self.balance = new_b\n",
        "  def display_client_info(self):\n",
        "    self.display_info()\n",
        "    print(f\"Баланс: {self.balance}\")\n",
        "p = Profile(\"Alsu\", \"Alsu@mail.com\", \"04.02.2005\")\n",
        "p.display_info()\n",
        "c = Client(\"Alsu\", \"Alsu@mail.com\", \"04.02.2005\", 1000)\n",
        "c.display_client_info()\n",
        "c.new_balance(500)\n",
        "c.display_client_info()"
      ],
      "metadata": {
        "id": "Vhbv9ptTvZiu"
      },
      "execution_count": null,
      "outputs": []
    },
    {
      "cell_type": "markdown",
      "source": [
        "3. Создать класс Client, в котором поля name, idNumber и balance будут приватными. Реализовать методы для безопасного изменения баланса и доступа к имени и идентификационному номеру клиента."
      ],
      "metadata": {
        "id": "rOPcU4U1vhnA"
      }
    },
    {
      "cell_type": "code",
      "source": [
        "class Client:\n",
        "  def __init__(self, name, idNumber, balance):\n",
        "    self.__name = name\n",
        "    self.__idNumber = idNumber\n",
        "    self.__balance = balance\n",
        "  def get_name(self):\n",
        "    return self.__name\n",
        "  def get_idNumber(self):\n",
        "    return self.__idNumber\n",
        "  def get_balance(self):\n",
        "    return self.__balance\n",
        "  def set_balance(self, new_balance):\n",
        "    self.__balance = new_balance\n",
        "c = Client(\"Alsu\", 984228, 1000)\n",
        "print(c.get_name())\n",
        "print(c.get_idNumber())\n",
        "print(c.get_balance())\n",
        "c.set_balance(500)\n",
        "print()\n",
        "print(c.get_name())\n",
        "print(c.get_idNumber())\n",
        "print(c.get_balance())"
      ],
      "metadata": {
        "id": "m1rhWH9avjS-"
      },
      "execution_count": null,
      "outputs": []
    },
    {
      "cell_type": "markdown",
      "source": [
        "4. Компания и отдел.  Создайте класс `Компания`, который может содержать несколько отделов. Реализуйте метод для добавления отдела с его названием. Класс `Отдел` должен иметь поле `название отдела`. Отделы не могут существовать без компании."
      ],
      "metadata": {
        "id": "LXxiDgmQvr3Q"
      }
    },
    {
      "cell_type": "code",
      "source": [
        "class Company:\n",
        "  def __init__(self):\n",
        "    self.departments = []\n",
        "  def add_department(self, d_name):\n",
        "        new_department = self.Department(d_name)\n",
        "        self.departments.append(new_department)\n",
        "  def print_info(self):\n",
        "        print(\"Список отделов:\")\n",
        "        for department in self.departments:\n",
        "            print(f\"{department.d_name} department\")\n",
        "  class Department:\n",
        "    def __init__(self, d_name):\n",
        "      self.d_name = d_name\n",
        "super_company = Company()\n",
        "super_company.add_department(\"HR\")\n",
        "super_company.add_department(\"IT\")\n",
        "super_company.add_department(\"sales\")\n",
        "super_company.print_info()"
      ],
      "metadata": {
        "id": "y3v4n_YFvtLV"
      },
      "execution_count": null,
      "outputs": []
    },
    {
      "cell_type": "markdown",
      "source": [
        "5. Город и здание. Создайте класс `Город`, который содержит здания. Класс `Здание` должен иметь поля `название` и `адрес`. Здания могут существовать независимо от города."
      ],
      "metadata": {
        "id": "ybByJsLzv4Q9"
      }
    },
    {
      "cell_type": "code",
      "source": [
        "class City:\n",
        "  def __init__(self):\n",
        "    self.buildings = []\n",
        "  def add_building(self, new_building):\n",
        "    self.buildings.append(new_building)\n",
        "  def print_info(self):\n",
        "    for i in self.buildings:\n",
        "      print(i.b_name, i.address)\n",
        "class Building:\n",
        "  def __init__(self, b_name, address):\n",
        "    self.b_name = b_name\n",
        "    self.address = address\n",
        "Kazan = City()\n",
        "b1 = Building(\"КФУ\", \"Кремлевская 35\")\n",
        "b2 = Building(\"Набережная\", \"Федосеевская улица 1\")\n",
        "Kazan.add_building(b1)\n",
        "Kazan.add_building(b2)\n",
        "Kazan.print_info()"
      ],
      "metadata": {
        "id": "jzftdaYJwA53"
      },
      "execution_count": null,
      "outputs": []
    },
    {
      "cell_type": "markdown",
      "source": [
        "6. Создать абстрактный класс DisplayDevice с абстрактным методом display(). Реализовать подклассы Monitor и Projector, которые реализуют метод display()."
      ],
      "metadata": {
        "id": "oICz8XvkwDWB"
      }
    },
    {
      "cell_type": "code",
      "source": [
        "from abc import ABC, abstractmethod\n",
        "class DisplayDevice(ABC):\n",
        "  @abstractmethod\n",
        "  def display(self): pass\n",
        "class Monitor(DisplayDevice):\n",
        "  def display(self):\n",
        "    print('Вывели изображение на экран')\n",
        "class Projector(DisplayDevice):\n",
        "  def display(self):\n",
        "    print('Спроецировали изображение на экран')\n",
        "m = Monitor()\n",
        "p = Projector()\n",
        "m.display()\n",
        "p.display()"
      ],
      "metadata": {
        "id": "zILosL2xwKaD"
      },
      "execution_count": null,
      "outputs": []
    },
    {
      "cell_type": "markdown",
      "source": [
        "7. Создать интерфейс IProfile, который содержит методы updateEmail(String email) и getProfileInfo(). Создать класс Profile, реализующий этот интерфейс. Класс должен содержать поля username, email и birthDate."
      ],
      "metadata": {
        "id": "hDUAAuokwK3W"
      }
    },
    {
      "cell_type": "code",
      "source": [
        "from abc import ABC, abstractmethod\n",
        "class IProfile(ABC):\n",
        "  @abstractmethod\n",
        "  def updateEmail(self, new_email): pass\n",
        "  @abstractmethod\n",
        "  def getProfileInfo(self): pass\n",
        "class Profile(IProfile):\n",
        "  def __init__(self, username, email, birthDate):\n",
        "    self.username = username\n",
        "    self.email = email\n",
        "    self.birthDate = birthDate\n",
        "  def updateEmail(self, new_email):\n",
        "    self.email = new_email\n",
        "  def getProfileInfo(self):\n",
        "    return f\"Username: {self.username}\\nEmail: {self.email}\\nBirth Date: {self.birthDate}\"\n",
        "P = Profile('mad', 'mad@mail.ru', '04.02.2005')\n",
        "print(P.getProfileInfo())\n",
        "P.updateEmail('asdd@mail.ru')\n",
        "print(P.getProfileInfo())"
      ],
      "metadata": {
        "id": "wDCIeDd1wRWm"
      },
      "execution_count": null,
      "outputs": []
    },
    {
      "cell_type": "markdown",
      "source": [
        "8. Определите метод makePurchase() в классе Client, который будет осуществлять покупку. Создайте подклассы VIPClient и RegularClient, которые будут переопределять этот метод для различных условий покупки."
      ],
      "metadata": {
        "id": "zR1kAxg2wSAu"
      }
    },
    {
      "cell_type": "code",
      "source": [
        "class Client:\n",
        "  def __init__(self, name, client_id, balance):\n",
        "    self.name = name\n",
        "    self.client_id = client_id\n",
        "    self.balance = balance\n",
        "  def makePurchase(self, price):\n",
        "    if self.balance >= price:\n",
        "      print(f\"{self.name} сделал(а) покупку на сумму {price} руб.\")\n",
        "    else:\n",
        "      print(f\"Недостаточно средств для покупки. Текущий баланс: {self.balance} руб.\")\n",
        "class VIPClient(Client):\n",
        "  def makePurchase(self, price):\n",
        "    sale_price = price * 0.9\n",
        "    if self.balance >= sale_price:\n",
        "      print(f\"VIP Client {self.name} сделал(а) покупку на сумму {price} руб. со скидкой (10%)\")\n",
        "    else:\n",
        "      print(f\"Недостаточно средств покупки. Текущий баланс: {self.balance} руб.\")\n",
        "class RegularClient(Client):\n",
        "  def makePurchase(self, price):\n",
        "    if self.balance >= price:\n",
        "      print(f\"Обычный клиент {self.name} сделал(а) покупку на сумму {price} руб.\")\n",
        "    else:\n",
        "      print(f\"Недостаточно средств покупки. Текущий баланс: {self.balance} руб.\")\n",
        "vip_client = VIPClient(\"Mad\", 1, 1000)\n",
        "regular_client = RegularClient(\"Sue\", 2, 500)\n",
        "vip_client.makePurchase(200)\n",
        "regular_client.makePurchase(600)\n",
        "regular_client.makePurchase(100)"
      ],
      "metadata": {
        "id": "iwhkunNRwZI3"
      },
      "execution_count": null,
      "outputs": []
    }
  ]
}